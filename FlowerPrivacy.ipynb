{
  "cells": [
    {
      "cell_type": "markdown",
      "metadata": {
        "id": "cz71fPGrpRiQ"
      },
      "source": [
        "# Differential Privacy with Opacus and Flower\n",
        "\n",
        "TODO transfer from Cambridge project"
      ]
    },
    {
      "cell_type": "markdown",
      "metadata": {},
      "source": [
        "## Installing Opacus\n",
        "\n"
      ]
    },
    {
      "cell_type": "code",
      "execution_count": 3,
      "metadata": {},
      "outputs": [
        {
          "name": "stdout",
          "output_type": "stream",
          "text": [
            "Looking in links: https://download.pytorch.org/whl/torch_stable.html\n",
            "Requirement already satisfied: torchcsprng==0.1.3+cu101 in /home/daniel/.cache/pypoetry/virtualenvs/kaicd-fl-poc-notebooks-GIMwPCRC-py3.8/lib/python3.8/site-packages (0.1.3+cu101)\n",
            "Requirement already satisfied: torch==1.7.0 in /home/daniel/.cache/pypoetry/virtualenvs/kaicd-fl-poc-notebooks-GIMwPCRC-py3.8/lib/python3.8/site-packages (from torchcsprng==0.1.3+cu101) (1.7.0+cu92)\n",
            "Requirement already satisfied: dataclasses in /home/daniel/.cache/pypoetry/virtualenvs/kaicd-fl-poc-notebooks-GIMwPCRC-py3.8/lib/python3.8/site-packages (from torch==1.7.0->torchcsprng==0.1.3+cu101) (0.6)\n",
            "Requirement already satisfied: typing-extensions in /home/daniel/.cache/pypoetry/virtualenvs/kaicd-fl-poc-notebooks-GIMwPCRC-py3.8/lib/python3.8/site-packages (from torch==1.7.0->torchcsprng==0.1.3+cu101) (3.10.0.2)\n",
            "Requirement already satisfied: numpy in /home/daniel/.cache/pypoetry/virtualenvs/kaicd-fl-poc-notebooks-GIMwPCRC-py3.8/lib/python3.8/site-packages (from torch==1.7.0->torchcsprng==0.1.3+cu101) (1.21.1)\n",
            "Requirement already satisfied: future in /home/daniel/.cache/pypoetry/virtualenvs/kaicd-fl-poc-notebooks-GIMwPCRC-py3.8/lib/python3.8/site-packages (from torch==1.7.0->torchcsprng==0.1.3+cu101) (0.18.2)\n",
            "\u001b[33mWARNING: You are using pip version 21.2.4; however, version 21.3.1 is available.\n",
            "You should consider upgrading via the '/home/daniel/.cache/pypoetry/virtualenvs/kaicd-fl-poc-notebooks-GIMwPCRC-py3.8/bin/python -m pip install --upgrade pip' command.\u001b[0m\n",
            "Collecting flwr[simulation]\n",
            "  Cloning https://github.com/adap/flower.git (to revision release/0.17) to /tmp/pip-install-me25r2z6/flwr_9e5daca9add349928dda73a018871496\n",
            "  Running command git clone -q https://github.com/adap/flower.git /tmp/pip-install-me25r2z6/flwr_9e5daca9add349928dda73a018871496\n",
            "  Running command git checkout -b release/0.17 --track origin/release/0.17\n",
            "  Switched to a new branch 'release/0.17'\n",
            "  Branch 'release/0.17' set up to track remote branch 'release/0.17' from 'origin'.\n",
            "  Resolved https://github.com/adap/flower.git to commit 1ec33bf042a2d5eec707ff857da164c441892fad\n",
            "  Installing build dependencies ... \u001b[?25ldone\n",
            "\u001b[?25h  Getting requirements to build wheel ... \u001b[?25ldone\n",
            "\u001b[?25h    Preparing wheel metadata ... \u001b[?25ldone\n",
            "\u001b[?25hRequirement already satisfied: matplotlib in /home/daniel/.cache/pypoetry/virtualenvs/kaicd-fl-poc-notebooks-GIMwPCRC-py3.8/lib/python3.8/site-packages (3.4.3)\n",
            "Requirement already satisfied: torch==1.7.0 in /home/daniel/.cache/pypoetry/virtualenvs/kaicd-fl-poc-notebooks-GIMwPCRC-py3.8/lib/python3.8/site-packages (1.7.0+cu92)\n",
            "Requirement already satisfied: torchvision==0.8.0 in /home/daniel/.cache/pypoetry/virtualenvs/kaicd-fl-poc-notebooks-GIMwPCRC-py3.8/lib/python3.8/site-packages (0.8.0)\n",
            "Requirement already satisfied: numpy in /home/daniel/.cache/pypoetry/virtualenvs/kaicd-fl-poc-notebooks-GIMwPCRC-py3.8/lib/python3.8/site-packages (from torch==1.7.0) (1.21.1)\n",
            "Requirement already satisfied: future in /home/daniel/.cache/pypoetry/virtualenvs/kaicd-fl-poc-notebooks-GIMwPCRC-py3.8/lib/python3.8/site-packages (from torch==1.7.0) (0.18.2)\n",
            "Requirement already satisfied: typing-extensions in /home/daniel/.cache/pypoetry/virtualenvs/kaicd-fl-poc-notebooks-GIMwPCRC-py3.8/lib/python3.8/site-packages (from torch==1.7.0) (3.10.0.2)\n",
            "Requirement already satisfied: dataclasses in /home/daniel/.cache/pypoetry/virtualenvs/kaicd-fl-poc-notebooks-GIMwPCRC-py3.8/lib/python3.8/site-packages (from torch==1.7.0) (0.6)\n",
            "Requirement already satisfied: pillow>=4.1.1 in /home/daniel/.cache/pypoetry/virtualenvs/kaicd-fl-poc-notebooks-GIMwPCRC-py3.8/lib/python3.8/site-packages (from torchvision==0.8.0) (8.4.0)\n",
            "Requirement already satisfied: cycler>=0.10 in /home/daniel/.cache/pypoetry/virtualenvs/kaicd-fl-poc-notebooks-GIMwPCRC-py3.8/lib/python3.8/site-packages (from matplotlib) (0.10.0)\n",
            "Requirement already satisfied: kiwisolver>=1.0.1 in /home/daniel/.cache/pypoetry/virtualenvs/kaicd-fl-poc-notebooks-GIMwPCRC-py3.8/lib/python3.8/site-packages (from matplotlib) (1.3.2)\n",
            "Requirement already satisfied: pyparsing>=2.2.1 in /home/daniel/.cache/pypoetry/virtualenvs/kaicd-fl-poc-notebooks-GIMwPCRC-py3.8/lib/python3.8/site-packages (from matplotlib) (2.4.7)\n",
            "Requirement already satisfied: python-dateutil>=2.7 in /home/daniel/.cache/pypoetry/virtualenvs/kaicd-fl-poc-notebooks-GIMwPCRC-py3.8/lib/python3.8/site-packages (from matplotlib) (2.8.2)\n",
            "Requirement already satisfied: protobuf<4.0.0,>=3.12.1 in /home/daniel/.cache/pypoetry/virtualenvs/kaicd-fl-poc-notebooks-GIMwPCRC-py3.8/lib/python3.8/site-packages (from flwr[simulation]) (3.19.0)\n",
            "Requirement already satisfied: grpcio<2.0.0,>=1.27.2 in /home/daniel/.cache/pypoetry/virtualenvs/kaicd-fl-poc-notebooks-GIMwPCRC-py3.8/lib/python3.8/site-packages (from flwr[simulation]) (1.41.0)\n",
            "Requirement already satisfied: google<3.0.0,>=2.0.3 in /home/daniel/.cache/pypoetry/virtualenvs/kaicd-fl-poc-notebooks-GIMwPCRC-py3.8/lib/python3.8/site-packages (from flwr[simulation]) (2.0.3)\n",
            "Requirement already satisfied: ray[default]==1.6.0 in /home/daniel/.cache/pypoetry/virtualenvs/kaicd-fl-poc-notebooks-GIMwPCRC-py3.8/lib/python3.8/site-packages (from flwr[simulation]) (1.6.0)\n",
            "Requirement already satisfied: click>=7.0 in /home/daniel/.cache/pypoetry/virtualenvs/kaicd-fl-poc-notebooks-GIMwPCRC-py3.8/lib/python3.8/site-packages (from ray[default]==1.6.0->flwr[simulation]) (8.0.3)\n",
            "Requirement already satisfied: redis>=3.5.0 in /home/daniel/.cache/pypoetry/virtualenvs/kaicd-fl-poc-notebooks-GIMwPCRC-py3.8/lib/python3.8/site-packages (from ray[default]==1.6.0->flwr[simulation]) (3.5.3)\n",
            "Requirement already satisfied: msgpack<2.0.0,>=1.0.0 in /home/daniel/.cache/pypoetry/virtualenvs/kaicd-fl-poc-notebooks-GIMwPCRC-py3.8/lib/python3.8/site-packages (from ray[default]==1.6.0->flwr[simulation]) (1.0.2)\n",
            "Requirement already satisfied: filelock in /home/daniel/.cache/pypoetry/virtualenvs/kaicd-fl-poc-notebooks-GIMwPCRC-py3.8/lib/python3.8/site-packages (from ray[default]==1.6.0->flwr[simulation]) (3.3.1)\n",
            "Requirement already satisfied: pyyaml in /home/daniel/.cache/pypoetry/virtualenvs/kaicd-fl-poc-notebooks-GIMwPCRC-py3.8/lib/python3.8/site-packages (from ray[default]==1.6.0->flwr[simulation]) (6.0)\n",
            "Requirement already satisfied: attrs in /home/daniel/.cache/pypoetry/virtualenvs/kaicd-fl-poc-notebooks-GIMwPCRC-py3.8/lib/python3.8/site-packages (from ray[default]==1.6.0->flwr[simulation]) (21.2.0)\n",
            "Requirement already satisfied: aioredis<2 in /home/daniel/.cache/pypoetry/virtualenvs/kaicd-fl-poc-notebooks-GIMwPCRC-py3.8/lib/python3.8/site-packages (from ray[default]==1.6.0->flwr[simulation]) (1.3.1)\n",
            "Requirement already satisfied: requests in /home/daniel/.cache/pypoetry/virtualenvs/kaicd-fl-poc-notebooks-GIMwPCRC-py3.8/lib/python3.8/site-packages (from ray[default]==1.6.0->flwr[simulation]) (2.26.0)\n",
            "Requirement already satisfied: gpustat in /home/daniel/.cache/pypoetry/virtualenvs/kaicd-fl-poc-notebooks-GIMwPCRC-py3.8/lib/python3.8/site-packages (from ray[default]==1.6.0->flwr[simulation]) (0.6.0)\n",
            "Requirement already satisfied: aiohttp-cors in /home/daniel/.cache/pypoetry/virtualenvs/kaicd-fl-poc-notebooks-GIMwPCRC-py3.8/lib/python3.8/site-packages (from ray[default]==1.6.0->flwr[simulation]) (0.7.0)\n",
            "Requirement already satisfied: opencensus in /home/daniel/.cache/pypoetry/virtualenvs/kaicd-fl-poc-notebooks-GIMwPCRC-py3.8/lib/python3.8/site-packages (from ray[default]==1.6.0->flwr[simulation]) (0.8.0)\n",
            "Requirement already satisfied: jsonschema in /home/daniel/.cache/pypoetry/virtualenvs/kaicd-fl-poc-notebooks-GIMwPCRC-py3.8/lib/python3.8/site-packages (from ray[default]==1.6.0->flwr[simulation]) (4.1.2)\n",
            "Requirement already satisfied: prometheus-client>=0.7.1 in /home/daniel/.cache/pypoetry/virtualenvs/kaicd-fl-poc-notebooks-GIMwPCRC-py3.8/lib/python3.8/site-packages (from ray[default]==1.6.0->flwr[simulation]) (0.11.0)\n",
            "Requirement already satisfied: aiohttp in /home/daniel/.cache/pypoetry/virtualenvs/kaicd-fl-poc-notebooks-GIMwPCRC-py3.8/lib/python3.8/site-packages (from ray[default]==1.6.0->flwr[simulation]) (3.7.4.post0)\n",
            "Requirement already satisfied: py-spy>=0.2.0 in /home/daniel/.cache/pypoetry/virtualenvs/kaicd-fl-poc-notebooks-GIMwPCRC-py3.8/lib/python3.8/site-packages (from ray[default]==1.6.0->flwr[simulation]) (0.3.10)\n",
            "Requirement already satisfied: colorful in /home/daniel/.cache/pypoetry/virtualenvs/kaicd-fl-poc-notebooks-GIMwPCRC-py3.8/lib/python3.8/site-packages (from ray[default]==1.6.0->flwr[simulation]) (0.5.4)\n",
            "Requirement already satisfied: hiredis in /home/daniel/.cache/pypoetry/virtualenvs/kaicd-fl-poc-notebooks-GIMwPCRC-py3.8/lib/python3.8/site-packages (from aioredis<2->ray[default]==1.6.0->flwr[simulation]) (2.0.0)\n",
            "Requirement already satisfied: async-timeout in /home/daniel/.cache/pypoetry/virtualenvs/kaicd-fl-poc-notebooks-GIMwPCRC-py3.8/lib/python3.8/site-packages (from aioredis<2->ray[default]==1.6.0->flwr[simulation]) (3.0.1)\n",
            "Requirement already satisfied: six in /home/daniel/.cache/pypoetry/virtualenvs/kaicd-fl-poc-notebooks-GIMwPCRC-py3.8/lib/python3.8/site-packages (from cycler>=0.10->matplotlib) (1.16.0)\n",
            "Requirement already satisfied: beautifulsoup4 in /home/daniel/.cache/pypoetry/virtualenvs/kaicd-fl-poc-notebooks-GIMwPCRC-py3.8/lib/python3.8/site-packages (from google<3.0.0,>=2.0.3->flwr[simulation]) (4.10.0)\n",
            "Requirement already satisfied: chardet<5.0,>=2.0 in /home/daniel/.cache/pypoetry/virtualenvs/kaicd-fl-poc-notebooks-GIMwPCRC-py3.8/lib/python3.8/site-packages (from aiohttp->ray[default]==1.6.0->flwr[simulation]) (4.0.0)\n",
            "Requirement already satisfied: yarl<2.0,>=1.0 in /home/daniel/.cache/pypoetry/virtualenvs/kaicd-fl-poc-notebooks-GIMwPCRC-py3.8/lib/python3.8/site-packages (from aiohttp->ray[default]==1.6.0->flwr[simulation]) (1.7.0)\n",
            "Requirement already satisfied: multidict<7.0,>=4.5 in /home/daniel/.cache/pypoetry/virtualenvs/kaicd-fl-poc-notebooks-GIMwPCRC-py3.8/lib/python3.8/site-packages (from aiohttp->ray[default]==1.6.0->flwr[simulation]) (5.2.0)\n",
            "Requirement already satisfied: idna>=2.0 in /home/daniel/.cache/pypoetry/virtualenvs/kaicd-fl-poc-notebooks-GIMwPCRC-py3.8/lib/python3.8/site-packages (from yarl<2.0,>=1.0->aiohttp->ray[default]==1.6.0->flwr[simulation]) (3.3)\n",
            "Requirement already satisfied: soupsieve>1.2 in /home/daniel/.cache/pypoetry/virtualenvs/kaicd-fl-poc-notebooks-GIMwPCRC-py3.8/lib/python3.8/site-packages (from beautifulsoup4->google<3.0.0,>=2.0.3->flwr[simulation]) (2.2.1)\n",
            "Requirement already satisfied: nvidia-ml-py3>=7.352.0 in /home/daniel/.cache/pypoetry/virtualenvs/kaicd-fl-poc-notebooks-GIMwPCRC-py3.8/lib/python3.8/site-packages (from gpustat->ray[default]==1.6.0->flwr[simulation]) (7.352.0)\n",
            "Requirement already satisfied: blessings>=1.6 in /home/daniel/.cache/pypoetry/virtualenvs/kaicd-fl-poc-notebooks-GIMwPCRC-py3.8/lib/python3.8/site-packages (from gpustat->ray[default]==1.6.0->flwr[simulation]) (1.7)\n",
            "Requirement already satisfied: psutil in /home/daniel/.cache/pypoetry/virtualenvs/kaicd-fl-poc-notebooks-GIMwPCRC-py3.8/lib/python3.8/site-packages (from gpustat->ray[default]==1.6.0->flwr[simulation]) (5.8.0)\n",
            "Requirement already satisfied: pyrsistent!=0.17.0,!=0.17.1,!=0.17.2,>=0.14.0 in /home/daniel/.cache/pypoetry/virtualenvs/kaicd-fl-poc-notebooks-GIMwPCRC-py3.8/lib/python3.8/site-packages (from jsonschema->ray[default]==1.6.0->flwr[simulation]) (0.18.0)\n",
            "Requirement already satisfied: opencensus-context==0.1.2 in /home/daniel/.cache/pypoetry/virtualenvs/kaicd-fl-poc-notebooks-GIMwPCRC-py3.8/lib/python3.8/site-packages (from opencensus->ray[default]==1.6.0->flwr[simulation]) (0.1.2)\n",
            "Requirement already satisfied: google-api-core<3.0.0,>=1.0.0 in /home/daniel/.cache/pypoetry/virtualenvs/kaicd-fl-poc-notebooks-GIMwPCRC-py3.8/lib/python3.8/site-packages (from opencensus->ray[default]==1.6.0->flwr[simulation]) (2.1.1)\n",
            "Requirement already satisfied: googleapis-common-protos<2.0dev,>=1.6.0 in /home/daniel/.cache/pypoetry/virtualenvs/kaicd-fl-poc-notebooks-GIMwPCRC-py3.8/lib/python3.8/site-packages (from google-api-core<3.0.0,>=1.0.0->opencensus->ray[default]==1.6.0->flwr[simulation]) (1.53.0)\n",
            "Requirement already satisfied: google-auth<3.0dev,>=1.25.0 in /home/daniel/.cache/pypoetry/virtualenvs/kaicd-fl-poc-notebooks-GIMwPCRC-py3.8/lib/python3.8/site-packages (from google-api-core<3.0.0,>=1.0.0->opencensus->ray[default]==1.6.0->flwr[simulation]) (2.3.0)\n",
            "Requirement already satisfied: setuptools>=40.3.0 in /home/daniel/.cache/pypoetry/virtualenvs/kaicd-fl-poc-notebooks-GIMwPCRC-py3.8/lib/python3.8/site-packages (from google-api-core<3.0.0,>=1.0.0->opencensus->ray[default]==1.6.0->flwr[simulation]) (58.0.4)\n",
            "Requirement already satisfied: cachetools<5.0,>=2.0.0 in /home/daniel/.cache/pypoetry/virtualenvs/kaicd-fl-poc-notebooks-GIMwPCRC-py3.8/lib/python3.8/site-packages (from google-auth<3.0dev,>=1.25.0->google-api-core<3.0.0,>=1.0.0->opencensus->ray[default]==1.6.0->flwr[simulation]) (4.2.4)\n",
            "Requirement already satisfied: pyasn1-modules>=0.2.1 in /home/daniel/.cache/pypoetry/virtualenvs/kaicd-fl-poc-notebooks-GIMwPCRC-py3.8/lib/python3.8/site-packages (from google-auth<3.0dev,>=1.25.0->google-api-core<3.0.0,>=1.0.0->opencensus->ray[default]==1.6.0->flwr[simulation]) (0.2.8)\n",
            "Requirement already satisfied: rsa<5,>=3.1.4 in /home/daniel/.cache/pypoetry/virtualenvs/kaicd-fl-poc-notebooks-GIMwPCRC-py3.8/lib/python3.8/site-packages (from google-auth<3.0dev,>=1.25.0->google-api-core<3.0.0,>=1.0.0->opencensus->ray[default]==1.6.0->flwr[simulation]) (4.7.2)\n",
            "Requirement already satisfied: pyasn1<0.5.0,>=0.4.6 in /home/daniel/.cache/pypoetry/virtualenvs/kaicd-fl-poc-notebooks-GIMwPCRC-py3.8/lib/python3.8/site-packages (from pyasn1-modules>=0.2.1->google-auth<3.0dev,>=1.25.0->google-api-core<3.0.0,>=1.0.0->opencensus->ray[default]==1.6.0->flwr[simulation]) (0.4.8)\n",
            "Requirement already satisfied: certifi>=2017.4.17 in /home/daniel/.cache/pypoetry/virtualenvs/kaicd-fl-poc-notebooks-GIMwPCRC-py3.8/lib/python3.8/site-packages (from requests->ray[default]==1.6.0->flwr[simulation]) (2021.10.8)\n",
            "Requirement already satisfied: urllib3<1.27,>=1.21.1 in /home/daniel/.cache/pypoetry/virtualenvs/kaicd-fl-poc-notebooks-GIMwPCRC-py3.8/lib/python3.8/site-packages (from requests->ray[default]==1.6.0->flwr[simulation]) (1.26.7)\n",
            "Requirement already satisfied: charset-normalizer~=2.0.0 in /home/daniel/.cache/pypoetry/virtualenvs/kaicd-fl-poc-notebooks-GIMwPCRC-py3.8/lib/python3.8/site-packages (from requests->ray[default]==1.6.0->flwr[simulation]) (2.0.7)\n",
            "\u001b[33mWARNING: You are using pip version 21.2.4; however, version 21.3.1 is available.\n",
            "You should consider upgrading via the '/home/daniel/.cache/pypoetry/virtualenvs/kaicd-fl-poc-notebooks-GIMwPCRC-py3.8/bin/python -m pip install --upgrade pip' command.\u001b[0m\n"
          ]
        }
      ],
      "source": [
        "!pip install torchcsprng==0.1.3+cu101 -f https://download.pytorch.org/whl/torch_stable.html\n",
        "!pip install matplotlib torch==1.7.0 torchvision==0.8.0 git+https://github.com/adap/flower.git@release/0.17#egg=flwr[\"simulation\"]"
      ]
    },
    {
      "cell_type": "code",
      "execution_count": 6,
      "metadata": {},
      "outputs": [
        {
          "name": "stdout",
          "output_type": "stream",
          "text": [
            "1.21.1\n",
            "1.7.0+cu92\n",
            "0.8.0\n",
            "0.14.0\n"
          ]
        }
      ],
      "source": [
        "import flwr as fl\n",
        "import numpy as np\n",
        "import torch\n",
        "import torchvision\n",
        "import opacus\n",
        "\n",
        "print(np.__version__)\n",
        "print(torch.__version__)\n",
        "print(torchvision.__version__)\n",
        "print(opacus.__version__)"
      ]
    },
    {
      "cell_type": "code",
      "execution_count": null,
      "metadata": {},
      "outputs": [],
      "source": []
    }
  ],
  "metadata": {
    "accelerator": "GPU",
    "colab": {
      "collapsed_sections": [
        "JVcgAAiaihnx",
        "wt3_SmQKnpRO",
        "POBApsmwuCx2"
      ],
      "name": "FlowerPrivacy.ipynb",
      "provenance": [],
      "toc_visible": true
    },
    "interpreter": {
      "hash": "29d3d96e88912cf822d05a46426b769de26102bc74c7803e89f30736ce2d7191"
    },
    "kernelspec": {
      "display_name": "Python 3.8.10 64-bit ('kaicd-fl-poc-notebooks-GIMwPCRC-py3.8': poetry)",
      "name": "python3"
    },
    "language_info": {
      "codemirror_mode": {
        "name": "ipython",
        "version": 3
      },
      "file_extension": ".py",
      "mimetype": "text/x-python",
      "name": "python",
      "nbconvert_exporter": "python",
      "pygments_lexer": "ipython3",
      "version": "3.8.10"
    }
  },
  "nbformat": 4,
  "nbformat_minor": 0
}
