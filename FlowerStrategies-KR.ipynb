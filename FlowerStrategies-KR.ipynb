{
  "nbformat": 4,
  "nbformat_minor": 0,
  "metadata": {
    "accelerator": "GPU",
    "colab": {
      "name": "Copy of FlowerStrategies-KR.ipynb",
      "provenance": [],
      "collapsed_sections": []
    },
    "kernelspec": {
      "display_name": "Python 3",
      "name": "python3"
    },
    "language_info": {
      "name": "python"
    }
  },
  "cells": [
    {
      "cell_type": "markdown",
      "metadata": {
        "id": "cz71fPGrpRiQ"
      },
      "source": [
        "# Flower 연합학습 전략 구현을 통한 FedAvg 넘어서기\n",
        "\n",
        "Flower를 활용한 KAICD 연합학습 강좌 2부에 오신 것을 환영합니다!\n",
        "\n",
        "이번 튜토리얼에서는 지난 시간에 구축한 연합학습 시스템을 커스터마이징 할 것입니다(이번에도 FLower와 PyTorch를 사용합니다!).\n",
        "\n",
        "Part 1에서는 PyTorch를 활용하여 모델 훈련 파이프라인과 데이터 불러오기를 구성합니다.\n",
        "\n",
        "Part 2에서는 Flower를 활용하여 Part 1에서 구현한 PyTorch 기반 파이프라인을 가지고 연합학습을 진행합니다."
      ]
    },
    {
      "cell_type": "markdown",
      "metadata": {
        "id": "mBu1HRRY6bwX"
      },
      "source": [
        "## 사전준비\n",
        "\n",
        "시작하기에 앞서, Google Colab GPU 가속 설정을 확인해야 합니다.\n",
        "\n",
        "`런타임 > 런타임 유형 변경 > 하드웨어 가속: GPU > 저장`"
      ]
    },
    {
      "cell_type": "markdown",
      "metadata": {
        "id": "D4KiTMTpiort"
      },
      "source": [
        "### 의존성 설치\n",
        "\n",
        "다음으로 필요한 패키지를 설치하고 가져옵니다."
      ]
    },
    {
      "cell_type": "code",
      "metadata": {
        "id": "eTrCL2FmC5U5"
      },
      "source": [
        "!pip install torch==1.9.0 torchvision==0.10.0 git+https://github.com/adap/flower.git@release/0.17#egg=flwr[\"simulation\"]\n",
        "\n",
        "from collections import OrderedDict\n",
        "from typing import Dict, List, Optional, Tuple\n",
        "\n",
        "import flwr as fl\n",
        "import numpy as np\n",
        "import torch\n",
        "import torch.nn as nn\n",
        "import torchvision\n",
        "import torch.nn.functional as F\n",
        "import torchvision.transforms as transforms\n",
        "from torch.utils.data import DataLoader, random_split\n",
        "from torchvision.datasets import CIFAR10\n",
        "\n",
        "DEVICE = torch.device(\"cuda:0\" if torch.cuda.is_available() else \"cpu\")\n",
        "DEVICE = \"cpu\"  # CPU로 실행하시려면 해당 코드를 살려주세요!\n",
        "print(f\"Training on {DEVICE}\")"
      ],
      "execution_count": null,
      "outputs": []
    },
    {
      "cell_type": "markdown",
      "metadata": {
        "id": "8D2bnPKG58Gx"
      },
      "source": [
        "Google Colab에서 실행하고 런타임에 GPU 가속기가 있다면, 출력 결과에서 `Training on cuda:0` 문장을 확인할 수 있습니다."
      ]
    },
    {
      "cell_type": "markdown",
      "metadata": {
        "id": "JVcgAAiaihnx"
      },
      "source": [
        "### 데이터 불러오기\n",
        "\n",
        "이제 CIFAR-10 훈련 및 테스트 데이터 세트를 불러오고, 10개의 작은 데이터 세트로 분할하여(각각 훈련 및 검증 데이터 세트로 분할) `DataLoader`로 포장합니다:"
      ]
    },
    {
      "cell_type": "code",
      "metadata": {
        "id": "J4Em7BPNTXeX"
      },
      "source": [
        "NUM_CLIENTS = 10\n",
        "\n",
        "def load_datasets(num_clients: int):\n",
        "    # CIFAR-10 데이터세트를 다운로드하고 전처리합니다(훈련 및 테스트).\n",
        "    transform = transforms.Compose(\n",
        "      [transforms.ToTensor(), transforms.Normalize((0.5, 0.5, 0.5), (0.5, 0.5, 0.5))]\n",
        "    )\n",
        "    trainset = CIFAR10(\"./dataset\", train=True, download=True, transform=transform)\n",
        "    testset = CIFAR10(\"./dataset\", train=False, download=True, transform=transform)\n",
        "\n",
        "    # 훈련 데이터세트를 10개로 나누고 개별 데이터세트를 시뮬레이션 합니다.\n",
        "    partition_size = len(trainset) // num_clients\n",
        "    lengths = [partition_size] * num_clients\n",
        "    datasets = random_split(trainset, lengths, torch.Generator().manual_seed(42))\n",
        "\n",
        "    # 분할된 각 파티션마다 훈련/검증 데이터세트로 나누고 데이터로더 인스턴스를 생성합니다.\n",
        "    trainloaders = []\n",
        "    valloaders = []\n",
        "    for ds in datasets:\n",
        "        len_val = len(ds) // 10  # 10 % validation set\n",
        "        len_train = len(ds) - len_val\n",
        "        lengths = [len_train, len_val]\n",
        "        ds_train, ds_val = random_split(ds, lengths, torch.Generator().manual_seed(42))\n",
        "        trainloaders.append(DataLoader(ds_train, batch_size=32, shuffle=True))\n",
        "        valloaders.append(DataLoader(ds_val, batch_size=32))\n",
        "    testloader = DataLoader(testset, batch_size=32)\n",
        "    return trainloaders, valloaders, testloader\n",
        "\n",
        "trainloaders, valloaders, testloader = load_datasets(NUM_CLIENTS)"
      ],
      "execution_count": null,
      "outputs": []
    },
    {
      "cell_type": "markdown",
      "metadata": {
        "id": "OBp7kB4G0sPB"
      },
      "source": [
        "### 모델 훈련/평가\n",
        "\n",
        "기본적인 모델을 정의하고, 훈련 및 테스트 함수를 작성합니다:"
      ]
    },
    {
      "cell_type": "code",
      "metadata": {
        "id": "2X3cVBXMpP6w"
      },
      "source": [
        "class Net(nn.Module):\n",
        "    def __init__(self) -> None:\n",
        "        super(Net, self).__init__()\n",
        "        self.conv1 = nn.Conv2d(3, 6, 5)\n",
        "        self.pool = nn.MaxPool2d(2, 2)\n",
        "        self.conv2 = nn.Conv2d(6, 16, 5)\n",
        "        self.fc1 = nn.Linear(16 * 5 * 5, 120)\n",
        "        self.fc2 = nn.Linear(120, 84)\n",
        "        self.fc3 = nn.Linear(84, 10)\n",
        "\n",
        "    def forward(self, x: torch.Tensor) -> torch.Tensor:\n",
        "        x = self.pool(F.relu(self.conv1(x)))\n",
        "        x = self.pool(F.relu(self.conv2(x)))\n",
        "        x = x.view(-1, 16 * 5 * 5)\n",
        "        x = F.relu(self.fc1(x))\n",
        "        x = F.relu(self.fc2(x))\n",
        "        x = self.fc3(x)\n",
        "        return x\n",
        "\n",
        "\n",
        "def get_parameters(net) -> List[np.ndarray]:\n",
        "    return [val.cpu().numpy() for _, val in net.state_dict().items()]\n",
        "\n",
        "\n",
        "def set_parameters(net, parameters: List[np.ndarray]):\n",
        "    params_dict = zip(net.state_dict().keys(), parameters)\n",
        "    state_dict = OrderedDict({k: torch.Tensor(v) for k, v in params_dict})\n",
        "    net.load_state_dict(state_dict, strict=True)\n",
        "\n",
        "\n",
        "def train(net, trainloader, epochs: int):\n",
        "    \"\"\"Train the network on the training set.\"\"\"\n",
        "    criterion = torch.nn.CrossEntropyLoss()\n",
        "    optimizer = torch.optim.Adam(net.parameters())\n",
        "    net.train()\n",
        "    for epoch in range(epochs):\n",
        "        correct, total, epoch_loss = 0, 0, 0.0\n",
        "        for images, labels in trainloader:\n",
        "            images, labels = images.to(DEVICE), labels.to(DEVICE)\n",
        "            optimizer.zero_grad()\n",
        "            outputs = net(images)\n",
        "            loss = criterion(net(images), labels)\n",
        "            loss.backward()\n",
        "            optimizer.step()\n",
        "            # Metrics\n",
        "            epoch_loss += loss\n",
        "            total += labels.size(0)\n",
        "            correct += (torch.max(outputs.data, 1)[1] == labels).sum().item()\n",
        "        epoch_loss /= len(testloader.dataset)\n",
        "        epoch_acc = correct / total\n",
        "        print(f\"Epoch {epoch+1}: train loss {epoch_loss}, accuracy {epoch_acc}\")\n",
        "\n",
        "\n",
        "def test(net, testloader):\n",
        "    \"\"\"Evaluate the network on the entire test set.\"\"\"\n",
        "    criterion = torch.nn.CrossEntropyLoss()\n",
        "    correct, total, loss = 0, 0, 0.0\n",
        "    net.eval()\n",
        "    with torch.no_grad():\n",
        "        for images, labels in testloader:\n",
        "            images, labels = images.to(DEVICE), labels.to(DEVICE)\n",
        "            outputs = net(images)\n",
        "            loss += criterion(outputs, labels).item()\n",
        "            _, predicted = torch.max(outputs.data, 1)\n",
        "            total += labels.size(0)\n",
        "            correct += (predicted == labels).sum().item()\n",
        "    loss /= len(testloader.dataset)\n",
        "    accuracy = correct / total\n",
        "    return loss, accuracy"
      ],
      "execution_count": null,
      "outputs": []
    },
    {
      "cell_type": "markdown",
      "metadata": {
        "id": "a6HP2cYCsqxD"
      },
      "source": [
        "## 연합학습 전략 커스터마이징"
      ]
    },
    {
      "cell_type": "markdown",
      "metadata": {
        "id": "1lCf3oljdClM"
      },
      "source": [
        "### Flower 클라이언트\n",
        "\n",
        "Flower 클라이언트를 구현하기 위해 `flwr.client.NumPyClient`의 하위 클래스를 생성하고,\n",
        "\n",
        "세 가지 함수(`get_parameters`, `fit`, `evaluate`)를 구현합니다:"
      ]
    },
    {
      "cell_type": "code",
      "metadata": {
        "id": "ye6Jt5p3LWtF"
      },
      "source": [
        "class FlowerClient(fl.client.NumPyClient):\n",
        "    def __init__(self, cid, net, trainloader, valloader):\n",
        "        self.cid = cid\n",
        "        self.net = net\n",
        "        self.trainloader = trainloader\n",
        "        self.valloader = valloader\n",
        "\n",
        "    def get_parameters(self):\n",
        "        print(f\"[Client {self.cid}] get_parameters\")\n",
        "        return get_parameters(self.net)\n",
        "\n",
        "    def fit(self, parameters, config):\n",
        "        print(f\"[Client {self.cid}] fit, config: {config}\")\n",
        "        set_parameters(self.net, parameters)\n",
        "        train(self.net, self.trainloader, epochs=1)\n",
        "        return get_parameters(self.net), len(self.trainloader), {}\n",
        "\n",
        "    def evaluate(self, parameters, config):\n",
        "        print(f\"[Client {self.cid}] evaluate, config: {config}\")\n",
        "        set_parameters(self.net, parameters)\n",
        "        loss, accuracy = test(self.net, self.valloader)\n",
        "        return float(loss), len(self.valloader), {\"accuracy\": float(accuracy)}\n",
        "\n",
        "\n",
        "def client_fn(cid) -> FlowerClient:\n",
        "    net = Net().to(DEVICE)\n",
        "    trainloader = trainloaders[int(cid)]\n",
        "    valloader = valloaders[int(cid)]\n",
        "    return FlowerClient(cid, net, trainloader, valloader)"
      ],
      "execution_count": null,
      "outputs": []
    },
    {
      "cell_type": "markdown",
      "metadata": {
        "id": "fXrronG84DBv"
      },
      "source": [
        "## 사용자 정의 전략 수립\n",
        "\n",
        "슬슬 튜토리얼 노트북이 친숙해질 때가 되었습니다.\n",
        "\n",
        "이제 Flower의 새로운 특징들을 소개하는 다음 단계로 넘어가기 위한 준비가 되었습니다!"
      ]
    },
    {
      "cell_type": "markdown",
      "metadata": {
        "id": "p6FHRf8HrbzV"
      },
      "source": [
        "### 서버 파라미터 초기화\n",
        "\n",
        "Flower는 기본적으로 하나의 임의 클라이언트에 초기 파라미터를 요청하여 전역 모델을 초기화합니다.\n",
        "\n",
        "그러나, 대부분의 경우 파라미터 초기화에 대한 더 많은 제어를 필요로 합니다.\n",
        "\n",
        "따라서 Flower는 초기 파라미터를 전략에 직접 전달할 수 있는 기능을 구현해놨습니다:"
      ]
    },
    {
      "cell_type": "code",
      "metadata": {
        "colab": {
          "background_save": true
        },
        "id": "GPeFWwyFrY9f"
      },
      "source": [
        "# 모델 인스턴스를 생성하고 파라미터를 불러옵니다.\n",
        "net = Net()\n",
        "params = get_parameters(Net())\n",
        "\n",
        "# 서버 모델 파라미터를 초기화하기 위해 연합학습 전략을 수립합니다.\n",
        "strategy = fl.server.strategy.FedAvg(\n",
        "    fraction_fit=0.3,\n",
        "    fraction_eval=0.3,\n",
        "    min_fit_clients=3,\n",
        "    min_eval_clients=3,\n",
        "    min_available_clients=NUM_CLIENTS,\n",
        "    initial_parameters=fl.common.weights_to_parameters(params),\n",
        ")\n",
        "\n",
        "# 시뮬레이션을 시작합니다.\n",
        "fl.simulation.start_simulation(\n",
        "    client_fn=client_fn,\n",
        "    num_clients=NUM_CLIENTS,\n",
        "    num_rounds=3,  # 3번의 라운드 진행\n",
        "    strategy=strategy,\n",
        ")"
      ],
      "execution_count": null,
      "outputs": []
    },
    {
      "cell_type": "markdown",
      "metadata": {
        "id": "Y4q2B84tMduY"
      },
      "source": [
        "`FedAvg` 전략에 `initial_parameters`를 전달하면 Flower는 클라이언트에게 초기 파라미터를 요청하지 않습니다.\n",
        "\n",
        "로그를 자세히 살펴보면, `FlowerClient.get_parameters` 함수에 대한 통신이 전혀 이루어지지 않았음을 알 수 있습니다."
      ]
    },
    {
      "cell_type": "markdown",
      "metadata": {
        "id": "axzXSMtlfhXU"
      },
      "source": [
        "### 커스터마이징 전략으로 연합학습 시작\n",
        "\n",
        "우리는 이전에도 `start_simulation`을 마주한 적이 있습니다.\n",
        "\n",
        "해당 함수는 `FlowerClient` 인스턴스를 생성하고 시뮬레이션하는데 사용된 `client_fn`, `num_client`, `strategy` 등 많은 변수를 받아들입니다.\n",
        "\n",
        "연합학습 전략은 연합학습의 접근법 및 알고리즘으로 정의할 수 있습니다.\n",
        "\n",
        "예를 들어, FedAvg 또는 FedAdagrad를 캡슐화하는 방법이 있죠.\n",
        "\n",
        "이번에는 다른 전략을 사용해보도록 하겠습니다."
      ]
    },
    {
      "cell_type": "code",
      "metadata": {
        "id": "TPSyivuj4CWH"
      },
      "source": [
        "# FedAdam 연합학습 전략 수립\n",
        "strategy=fl.server.strategy.FedAdagrad(\n",
        "    fraction_fit=0.3,\n",
        "    fraction_eval=0.3,\n",
        "    min_fit_clients=3,\n",
        "    min_eval_clients=3,\n",
        "    min_available_clients=NUM_CLIENTS,\n",
        "    initial_parameters=fl.common.weights_to_parameters(get_parameters(Net())),\n",
        ")\n",
        "\n",
        "# 시뮬레이션 시작\n",
        "fl.simulation.start_simulation(\n",
        "    client_fn=client_fn,\n",
        "    num_clients=NUM_CLIENTS,\n",
        "    num_rounds=3,  # 3번의 라운드 진행\n",
        "    strategy=strategy,\n",
        ")"
      ],
      "execution_count": null,
      "outputs": []
    },
    {
      "cell_type": "markdown",
      "metadata": {
        "id": "wt3_SmQKnpRO"
      },
      "source": [
        "## 서버 파라미터 평가\n",
        "\n",
        "Flower는 서버 또는 클라이언트 측의 집계된 모델을 평가할 수 있습니다.\n",
        "\n",
        "서버와 클라이언트 측 평가는 어떤 면에선 비슷하다고 할 수 있지만, 다른 면도 존재합니다.\n",
        "\n",
        "**중앙집중형 평가**는 간단한 개념입니다.\n",
        "\n",
        "중앙집중형 기계학습에서 평가하는 것과 같은 방식으로 작동합니다.\n",
        "\n",
        "평가 목적으로 사용할 수 있는 서버 데이터 세트가 있다면, 제일 좋겠죠?\n",
        "\n",
        "위의 경우에는 클라이언트에게 모델을 보내지 않고도 훈련 각 라운드 후에 새로 집계된 모델을 평가할 수 있습니다.\n",
        "\n",
        "또한, 전체 평가 데이터 세트를 항상 사용할 수 있다는 장점이 있습니다.\n",
        "\n",
        "**연합 평가**는 보다 복잡하지만, 더 강력한 측면이 있습니다:\n",
        "\n",
        "1. 중앙집중형 데이터 세트가 필요하지 않습니다.\n",
        "2. 더 큰 데이터 세트에 걸쳐 모델을 평가할 수 있게 해줍니다.\n",
        "3. 더 현실적인 평가 결과를 산출할 수 있습니다.\n",
        "\n",
        "사실, 우리가 대표적인 평가 결과를 얻기를 원한다면 많은 시나리오들이 **연합 평가**를 사용하길 요구합니다.\n",
        "\n",
        "하지만, 이런 강력한 기능을 사용하는 데에는 많은 비용이 듭니다.\n",
        "\n",
        "우선 클라이언트 측에서 평가하기 시작하면, 우리는 평가 데이터 세트가 연속적인 학습에 따라 종종 변화한다는 것을 인지해야 합니다.\n",
        "\n",
        "모델을 변경하지 않더라도, 클라이언트가 항상 연결되어 있지 않고 각 클라이언트의 데이터 세트가 변경될 수 있기 때문에\n",
        "\n",
        "시간이 지남에 따라 평가 결과가 변동(불안정한 평가 결과)하는 것을 관찰할 수 있습니다.\n",
        "\n",
        "우리는 `FlowerClient`에서 평가 함수를 실행함으로써, 클라이언트 측에서 연합 평가가 어떻게 작용하는지 살펴봤습니다.\n",
        "\n",
        "이제 서버 측에서 평가할 수 있는 방법을 살펴보겠습니다:"
      ]
    },
    {
      "cell_type": "code",
      "metadata": {
        "id": "MDovnUvsn7if"
      },
      "source": [
        "# `evaluate` 함수는 매 라운드마다 Flower로부터 호출됩니다.\n",
        "def evaluate(\n",
        "    weights: fl.common.Weights,\n",
        ") -> Optional[Tuple[float, Dict[str, fl.common.Scalar]]]:\n",
        "    net = Net()\n",
        "    valloader = valloaders[0]\n",
        "    set_parameters(net, weights)  # 가장 최신 파라미터로 업데이트\n",
        "    loss, accuracy = test(net, valloader)\n",
        "    print(f\"Server-side evaluation loss {loss} / accuracy {accuracy}\")\n",
        "    return loss, {\"accuracy\": accuracy}"
      ],
      "execution_count": null,
      "outputs": []
    },
    {
      "cell_type": "code",
      "metadata": {
        "id": "r5aGRnyQnu0Z"
      },
      "source": [
        "strategy = fl.server.strategy.FedAvg(\n",
        "    fraction_fit=0.3,\n",
        "    fraction_eval=0.3,\n",
        "    min_fit_clients=3,\n",
        "    min_eval_clients=3,\n",
        "    min_available_clients=NUM_CLIENTS,\n",
        "    initial_parameters=fl.common.weights_to_parameters(get_parameters(Net())),\n",
        "    eval_fn=evaluate,  # Pass the evaluation function\n",
        "    # eval_fn=get_evaluation_fn(),  # Pass the evaluation function\n",
        ")\n",
        "\n",
        "# Start simulation\n",
        "fl.simulation.start_simulation(\n",
        "    client_fn=client_fn,\n",
        "    num_clients=NUM_CLIENTS,\n",
        "    num_rounds=3,  # 3번의 라운드 진행\n",
        "    strategy=strategy,\n",
        ")"
      ],
      "execution_count": null,
      "outputs": []
    },
    {
      "cell_type": "markdown",
      "metadata": {
        "id": "I0NhITbH4Kmd"
      },
      "source": [
        "## Part 4: 서버에서 클라이언트로 값 전송\n",
        "\n",
        "때때로 서버 측에서 클라이언트 측 실행(훈련 및 평가)를 구성해야 할 때가 있습니다.\n",
        "\n",
        "이에 대한 한 가지 예로, 클라이언트에게 특정 수의 local epoch을 추적하도록 요청하는 서버가 있습니다.\n",
        "\n",
        "Flower는 딕셔너리 구조를 사용하여 서버에서 클라이언트로 구성 값을 전송하는 방법을 제공합니다.\n",
        "\n",
        "클라이언트가 `fit`과정에서 `config` 파라미터를 통해 서버로부터 값을 전달받는 사례를 살펴보겠습니다(`config`는 평가에서도 마찬가지로 적용됩니다).\n",
        "\n",
        "`fit` 함수는 `config` 파라미터를 통해 구성 사전(configuration dictionary)를 전달받은 다음, 해당 사전에서 값을 읽어들일 수 있습니다.\n",
        "\n",
        "이 예제에서는 `current_round`와 `local epcohs`를 읽어들이고, 이 값들을 사용하여 로그를 갱신하고 지역 훈련 단계(local training epochs)를 구성합니다:"
      ]
    },
    {
      "cell_type": "code",
      "metadata": {
        "id": "SPNBmtcm4aWN"
      },
      "source": [
        "class FlowerClient(fl.client.NumPyClient):\n",
        "    def __init__(self, cid, net, trainloader, valloader):\n",
        "        self.cid = cid\n",
        "        self.net = net\n",
        "        self.trainloader = trainloader\n",
        "        self.valloader = valloader\n",
        "\n",
        "    def get_parameters(self):\n",
        "        print(f\"[Client {self.cid}] get_parameters\")\n",
        "        return get_parameters(self.net)\n",
        "\n",
        "    def fit(self, parameters, config):\n",
        "        # Read values from config\n",
        "        current_round = config[\"current_round\"]\n",
        "        local_epochs = config[\"local_epochs\"]\n",
        "\n",
        "        # Use values provided by the config\n",
        "        print(f\"[Client {self.cid}, round {current_round}] fit, config: {config}\")\n",
        "        set_parameters(self.net, parameters)\n",
        "        train(self.net, self.trainloader, epochs=local_epochs)\n",
        "        return get_parameters(self.net), len(self.trainloader), {}\n",
        "\n",
        "    def evaluate(self, parameters, config):\n",
        "        print(f\"[Client {self.cid}] evaluate, config: {config}\")\n",
        "        set_parameters(self.net, parameters)\n",
        "        loss, accuracy = test(self.net, self.valloader)\n",
        "        return float(loss), len(self.valloader), {\"accuracy\": float(accuracy)}\n",
        "\n",
        "\n",
        "def client_fn(cid) -> FlowerClient:\n",
        "    net = Net().to(DEVICE)\n",
        "    trainloader = trainloaders[int(cid)]\n",
        "    valloader = valloaders[int(cid)]\n",
        "    return FlowerClient(cid, net, trainloader, valloader)"
      ],
      "execution_count": null,
      "outputs": []
    },
    {
      "cell_type": "markdown",
      "metadata": {
        "id": "TxNrIfPOPALl"
      },
      "source": [
        "그렇다면 어떻게 이 구성 사전을 서버에서 클라이언트로 전송할 수 있을까요?\n",
        "\n",
        "이를 위해 Flower 전략은 내장된 함수를 제공하며, 서버 측 평가와 유사하게 작동합니다.\n",
        "\n",
        "전략은 연합학습 내 모든 라운드마다 이 함수를 호출합니다:"
      ]
    },
    {
      "cell_type": "code",
      "metadata": {
        "id": "QLKlLUBZPevW"
      },
      "source": [
        "def fit_config(rnd: int):\n",
        "    \"\"\"Return training configuration dict for each round.\n",
        "    \n",
        "    Perform two rounds of training with one local epoch, increase to two local\n",
        "    epochs afterwards.\n",
        "    \"\"\"\n",
        "    config = {\n",
        "        \"current_round\": rnd,  # The current round of federated learning\n",
        "        \"local_epochs\": 1 if rnd < 2 else 2,  # \n",
        "    }\n",
        "    return config"
      ],
      "execution_count": null,
      "outputs": []
    },
    {
      "cell_type": "markdown",
      "metadata": {
        "id": "lDQVZP8wPgCy"
      },
      "source": [
        "다음으로, 시뮬레이션을 시작하기 전에 이 함수를 `strategy`에 전달합니다:"
      ]
    },
    {
      "cell_type": "code",
      "metadata": {
        "id": "DMVgYahaPzfR"
      },
      "source": [
        "strategy = fl.server.strategy.FedAvg(\n",
        "    fraction_fit=0.3,\n",
        "    fraction_eval=0.3,\n",
        "    min_fit_clients=3,\n",
        "    min_eval_clients=3,\n",
        "    min_available_clients=NUM_CLIENTS,\n",
        "    initial_parameters=fl.common.weights_to_parameters(get_parameters(Net())),\n",
        "    eval_fn=evaluate,\n",
        "    on_fit_config_fn=fit_config,  # Pass the fit_config function\n",
        ")\n",
        "\n",
        "fl.simulation.start_simulation(\n",
        "    client_fn=client_fn,\n",
        "    num_clients=NUM_CLIENTS,\n",
        "    num_rounds=3,  # Just three rounds\n",
        "    strategy=strategy,\n",
        ")"
      ],
      "execution_count": null,
      "outputs": []
    },
    {
      "cell_type": "markdown",
      "metadata": {
        "id": "y8KWRe_mP4Q_"
      },
      "source": [
        "여기서 볼 수 있듯이, 클라이언트 로그에는 현재 연합 학습의 라운드(구성 사전에서 읽어들인 것)가 포함되어 있습니다.\n",
        "\n",
        "또한 연합학습 과정에서 첫 번째, 두 번째 라운드에는 1 epoch 만큼 학습하고, 세 번째 라운드에는 2 epoch만큼 학습하도록 클라이언트 훈련을 구성할 수 있습니다.\n",
        "\n",
        "클라이언트는 임의 값을 서버에 반환할 수도 있습니다.\n",
        "\n",
        "이를 위해 `fit` 및 `evaluate` 과정에서 사전을 반환합니다.\n",
        "\n",
        "이 개념은 명시적으로 언급하진 않았지만, 이 튜토리얼 전체에 걸쳐 보고 사용해왔습니다.\n",
        "\n",
        "`FlowerClient`는 커스텀 키/값 쌍이 내재되어 있는 사전을 `evaluate`에서 세 번째 반환 값으로 반환합니다."
      ]
    },
    {
      "cell_type": "markdown",
      "metadata": {
        "id": "POBApsmwuCx2"
      },
      "source": [
        "## 연합학습 스케일링\n",
        "\n",
        "이제 마지막 단계입니다!\n",
        "\n",
        "Flower를 사용하여 어떻게 많은 수의 클라이언트들을 실험할 수 있는지 살펴보겠습니다.\n",
        "\n",
        "**우린 할 수 있습니다!**"
      ]
    },
    {
      "cell_type": "code",
      "metadata": {
        "id": "zVTrw7OsttE7"
      },
      "source": [
        "NUM_CLIENTS = 1000\n",
        "\n",
        "trainloaders, valloaders, testloader = load_datasets(NUM_CLIENTS)"
      ],
      "execution_count": null,
      "outputs": []
    },
    {
      "cell_type": "markdown",
      "metadata": {
        "id": "AWEhFD_oR2bv"
      },
      "source": [
        "우리는 1,000개의 파티션을 가지고 있습니다.\n",
        "\n",
        "각 파티션은 45개의 훈련 데이터 및 5개의 검증 데이터를 가지고 있습니다.\n",
        "\n",
        "각 클라이언트의 훈련 데이터가 상당히 적다는 점을 감안할 때, 모델을 조금 더 훈련시켜야하므로, 클라이언트들이 3번의 지역 훈련을 수행하도록 구성해야 합니다.\n",
        "\n",
        "또한, 각 라운드에서 훈련에 선발된 클라이언트의 비율(매 라운드마다 1,000명의 클라이언트가 참여하질 않길 바라며)`fraction_fit`을 0.1로 조정합니다.\n",
        "\n",
        "이는 훈련 가능한 전체 클라이언트의 10%만 선정한다는 의미입니다:"
      ]
    },
    {
      "cell_type": "code",
      "metadata": {
        "id": "APQDYol5Ryl9"
      },
      "source": [
        "def fit_config(rnd: int):\n",
        "    config = {\n",
        "        \"current_round\": rnd,\n",
        "        \"local_epochs\": 3,\n",
        "    }\n",
        "    return config\n",
        "\n",
        "strategy = fl.server.strategy.FedAvg(\n",
        "    fraction_fit=0.05,  # Select 50 clients in each round\n",
        "    fraction_eval=0.1,\n",
        "    min_fit_clients=50,\n",
        "    min_eval_clients=100,\n",
        "    min_available_clients=NUM_CLIENTS,\n",
        "    initial_parameters=fl.common.weights_to_parameters(get_parameters(Net())),\n",
        "    on_fit_config_fn=fit_config,\n",
        ")\n",
        "\n",
        "fl.simulation.start_simulation(\n",
        "    client_fn=client_fn,\n",
        "    num_clients=NUM_CLIENTS,\n",
        "    num_rounds=10,\n",
        "    strategy=strategy,\n",
        ")"
      ],
      "execution_count": null,
      "outputs": []
    },
    {
      "cell_type": "markdown",
      "metadata": {
        "id": "Ez00lLOA3waL"
      },
      "source": [
        "## 요약\n",
        "\n",
        "이번 튜토리얼에서는 연합학습 전략을 커스터마이징하고, 다른 전략도 선택해보며 서버 파라미터를 초기화하고,\n",
        "\n",
        "서버 측의 모델도 평가해봄으로써 시스템을 점진적으로 향상시킬 수 있는 방법을 살펴봤습니다.\n",
        "\n",
        "**정말 적은 양의 코드에 꽤 많은 힘이 있습니다!**"
      ]
    },
    {
      "cell_type": "code",
      "metadata": {
        "id": "shwoZEcFAsxl"
      },
      "source": [
        ""
      ],
      "execution_count": null,
      "outputs": []
    }
  ]
}
